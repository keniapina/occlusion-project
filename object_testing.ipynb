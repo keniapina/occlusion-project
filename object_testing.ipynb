{
 "cells": [
  {
   "cell_type": "markdown",
   "metadata": {},
   "source": [
    "# sparse coding notebook"
   ]
  },
  {
   "cell_type": "code",
   "execution_count": 4,
   "metadata": {
    "collapsed": false
   },
   "outputs": [],
   "source": [
    "import numpy as np\n",
    "import theano \n",
    "import theano.tensor as T\n",
    "import matplotlib.pyplot as plt\n",
    "import math \n",
    "import random \n",
    "from scipy.io import loadmat \n",
    "from sklearn.feature_extraction.image import PatchExtractor\n",
    "from collections import OrderedDict\n",
    "from utils import tile_raster_images as tri\n",
    "from datasets import gen_bars\n",
    "%matplotlib inline"
   ]
  },
  {
   "cell_type": "code",
   "execution_count": 72,
   "metadata": {
    "collapsed": false
   },
   "outputs": [],
   "source": [
    "class model(object):\n",
    "    \n",
    "    #all similarities between noca,mca,sc\n",
    "    #open sublime through harpo to access mca, sc scripts\n",
    "    # inslude dim, n_neurons, eps_a, eps_w\n",
    "    def __init__(self,dim,n_batch,n_neurons,eps_a,eps_w, decay_time,\n",
    "                 lam, pos_only= True, decay_init=50):\n",
    "        self.dim = dim\n",
    "        self.n_batch = n_batch\n",
    "        self.n_neurons = n_neurons\n",
    "        self.eps_a = eps_a\n",
    "        self.eps_w = theano.shared(np.array(eps_w).astype('float32'))\n",
    "        self.pos_only = pos_only\n",
    "        self.lam = lam\n",
    "        self.decay_time = decay_time\n",
    "        self.decay_init = decay_init\n",
    "    def reconstruction_cost(self, x, x_hat):\n",
    "        return (.5*(self.x- x_hat)**2).sum(axis=1).mean()\n",
    "    def sparsity_cost(self,a):\n",
    "        return abs(a).sum(axis=1).mean()\n",
    "    def l0 (self, a):\n",
    "        return T.neq(self.a,0.).sum(axis=1).mean()\n",
    "    def costfunction(self, lam, reconstruction_cost, sparsity_cost):\n",
    "        return reconstruction_cost+ lam*sparsity_cost\n",
    "    def snr(self, x, x_hat):\n",
    "        return T.mean(self.x.norm(2,axis=1)**2/(self.x-x_hat).norm(2,axis=1)**2)\n",
    "    \n",
    "    def train(self,patches, n_iter=100, epochs=150):\n",
    "        \n",
    "        n_batch = self.n_batch\n",
    "        n_neurons = self.n_neurons\n",
    "        dim = self.dim\n",
    "\n",
    "        cost_array = np.zeros((epochs, n_iter))\n",
    "        recon_array = np.zeros((epochs, n_iter))\n",
    "        coeff_array = np.zeros((epochs,n_iter))\n",
    "        l0_array = np.zeros((epochs,n_iter))\n",
    "        snr_array = np.zeros((epochs, n_iter))\n",
    "        hist_array = np.zeros((epochs, n_batch, n_neurons))\n",
    "        im_array = np.zeros((2, epochs, n_batch, dim))\n",
    "        w_array = np.zeros((epochs, n_neurons, dim))\n",
    "        \n",
    "        \n",
    "        for kk in range(epochs):\n",
    "            for ii in range(int(math.floor(1.*patches.shape[0]/n_batch))):\n",
    "                self.initialize()\n",
    "                self.update_x(patches[ii*n_batch : (ii+1)*n_batch])\n",
    "                for jj in range(n_iter):\n",
    "                    cost, recon, coeff, l0, snr, g = self.step_a()\n",
    "                    #print cost, l0, np.count_nonzero(g), g\n",
    "                    if ii == 0:\n",
    "                        cost_array[kk, jj] = cost\n",
    "                        recon_array[kk, jj] = recon\n",
    "                        coeff_array[kk, jj] = coeff\n",
    "                        l0_array[kk, jj] = l0\n",
    "                        snr_array[kk, jj] = snr\n",
    "                if kk > self.decay_init:\n",
    "                     self.decay_eps_w()\n",
    "                if ii == 0:\n",
    "                    hist_array[kk] = self.a.get_value()\n",
    "                    im_array[0, kk] = np.array(self.original())\n",
    "                    im_array[1, kk] = self.reconstruct()\n",
    "                    w_array[kk] = self.w.get_value() \n",
    "                self.step_w()\n",
    "                \n",
    "        model = dict() \n",
    "        model['w'] = self.w.get_value()\n",
    "        model['cost_array'] = cost_array\n",
    "        model['recon_array'] = recon_array\n",
    "        model['l0_array'] = l0_array\n",
    "        model['snr_array'] = snr_array\n",
    "        model['hist_array'] = hist_array\n",
    "        model['coeff_array'] = coeff_array\n",
    "        model['im_array'] = im_array\n",
    "        model['w_array'] = w_array\n",
    "        return model \n",
    "    \n",
    "    \n",
    "class noca(model):\n",
    "    pass\n",
    "    \n",
    "class mca(model):\n",
    "    \n",
    "    def setup(self):\n",
    "        n_batch = self.n_batch\n",
    "        dim = self.dim\n",
    "        n_neurons = self.n_neurons\n",
    "        eps_a = self.eps_a\n",
    "        eps_w = self.eps_w\n",
    "        pos_only = self.pos_only\n",
    "        lam = self.lam\n",
    "        decay_time = self.decay_time\n",
    "        p = np.exp(np.log(.1)/decay_time)\n",
    "            \n",
    "        self.x = theano.shared(np.zeros((n_batch,dim)).astype('float32'))\n",
    "        w = np.random.rand(n_neurons,dim)\n",
    "        w_norm = np.sqrt(np.sum(w**2, axis=1, keepdims=True))\n",
    "        self.w = theano.shared((w/w_norm).astype('float32'))\n",
    "        self.a = theano.shared(np.zeros((n_batch,n_neurons)).astype('float32'))\n",
    "        x_batch = T.matrix() \n",
    "        \n",
    "        x_hat = T.max(self.a.dimshuffle(0,1,'x')*self.w.dimshuffle('x',0,1), axis=1)\n",
    "        recon = self.reconstruction_cost(self.x, x_hat)\n",
    "        coeff = self.sparsity_cost(self.a)\n",
    "        l0 = self.l0(self.a)\n",
    "        costfunction = self.costfunction(lam, recon, coeff)\n",
    "        snr = self.snr(self.x, x_hat)\n",
    "        \n",
    "        grad_w = T.grad(costfunction, self.w)\n",
    "        grad_recon_a = T.grad(recon, self.a)\n",
    "        grad_sparse_a = T.grad(lam*coeff, self.a)\n",
    "\n",
    "        updates = OrderedDict()\n",
    "        updates[eps_w] = np.array(p).astype('float32') * eps_w\n",
    "        self.decay_eps_w = theano.function([], [], updates=updates)\n",
    "        \n",
    "        updates = OrderedDict()\n",
    "        \n",
    "        t = theano.shared(np.array(1.).astype('float32'))\n",
    "        a_old = theano.shared(np.zeros((n_batch,n_neurons)).astype('float32'))\n",
    "\n",
    "        a_prime = self.a - eps_a * grad_recon_a\n",
    "        abs_a = abs(a_prime) - lam*eps_a\n",
    "        a_ista = T.sgn(a_prime) * T.nnet.relu(abs_a)\n",
    "\n",
    "        t1 = 0.5 * (1 + T.sqrt(1. + 4. * t ** 2))\n",
    "        a_new = a_ista + (t1 - 1.) / t * (a_ista - a_old)\n",
    "        \n",
    "        if self.pos_only:\n",
    "            updates[self.a] = T.nnet.relu(a_new)\n",
    "            updates[a_old] = T.nnet.relu(a_ista)\n",
    "        else:\n",
    "            updates[self.a] = a_new\n",
    "            updates[a_old] = a_ista\n",
    "        \n",
    "        self.step_a = theano.function([], [costfunction,\n",
    "                                              recon, coeff, l0, snr, grad_recon_a],\n",
    "                                         updates=updates)\n",
    "        updates[self.a] = 0.*self.a \n",
    "        updates[a_old] = 0. *a_old\n",
    "        updates[t] = 1.\n",
    "        \n",
    "        self.initialize = theano.function([],[],updates = updates)\n",
    "\n",
    "        updates = OrderedDict()\n",
    "        updates[self.x] = x_batch\n",
    "        self.update_x = theano.function([x_batch],[],updates = updates)\n",
    "\n",
    "        updates = OrderedDict()\n",
    "        wp = self.w - eps_w*grad_w\n",
    "        wp_norm = T.sqrt(T.sum(self.w**2, axis=1, keepdims=True))\n",
    "        updates[self.w] = wp/wp_norm\n",
    "        \n",
    "        self.step_w = theano.function([],[costfunction],updates = updates)\n",
    "        \n",
    "        self.reconstruct = theano.function([],x_hat)\n",
    "        self.original = theano.function([], self.x)\n",
    "        \n",
    "        \n",
    "    \n",
    "class sc(model):\n",
    "    \n",
    "    def setup(self):\n",
    "        n_batch = self.n_batch\n",
    "        dim = self.dim\n",
    "        n_neurons = self.n_neurons\n",
    "        eps_a = self.eps_a\n",
    "        eps_w = self.eps_w\n",
    "        pos_only = self.pos_only\n",
    "        lam = self.lam\n",
    "        decay_time = self.decay_time\n",
    "        p = np.exp(np.log(.1)/decay_time)\n",
    "\n",
    "        self.x = theano.shared(np.zeros((n_batch,dim)).astype('float32'))\n",
    "        w = np.random.rand(n_neurons,dim)\n",
    "        w_norm = np.sqrt(np.sum(w**2, axis=1, keepdims=True))\n",
    "        self.w = theano.shared((w/w_norm).astype('float32'))\n",
    "        self.a = theano.shared(np.zeros((n_batch,n_neurons)).astype('float32'))\n",
    "        x_batch = T.matrix() \n",
    "\n",
    "        x_hat = T.dot(self.a,self.w)\n",
    "        recon = self.reconstruction_cost(self.x, x_hat)\n",
    "        coeff = self.sparsity_cost(self.a)\n",
    "        l0 = self.l0(self.a)\n",
    "        costfunction = self.costfunction(lam, recon, coeff)\n",
    "        snr = self.snr(self.x, x_hat)\n",
    "        \n",
    "        x_hat = x_hat\n",
    "        costfunction = costfunction\n",
    "        snr = snr\n",
    "        \n",
    "        grad_w = T.grad(costfunction,self.w)\n",
    "        grad_recon_a = T.grad(recon,self.a)\n",
    "        grad_sparse_a = T.grad(lam*coeff, self.a)\n",
    "\n",
    "        updates = OrderedDict()\n",
    "        updates[eps_w] = np.array(p).astype('float32') * eps_w\n",
    "        self.decay_eps_w = theano.function([], [], updates=updates)\n",
    "\n",
    "        updates = OrderedDict()\n",
    "        \n",
    "        t = theano.shared(np.array(1.).astype('float32'))\n",
    "        a_old = theano.shared(np.zeros((n_batch,n_neurons)).astype('float32'))\n",
    "\n",
    "        a_prime = self.a - eps_a * grad_recon_a\n",
    "        abs_a = abs(a_prime) - lam*eps_a\n",
    "        a_ista = T.sgn(a_prime) * T.nnet.relu(abs_a)\n",
    "\n",
    "        t1 = 0.5 * (1 + T.sqrt(1. + 4. * t ** 2))\n",
    "        a_new = a_ista + (t1 - 1.) / t * (a_ista - a_old)\n",
    "        \n",
    "        if self.pos_only:\n",
    "            updates[self.a] = T.nnet.relu(a_new) \n",
    "            updates[a_old] = T.nnet.relu(a_ista)\n",
    "        else:\n",
    "            updates[a] = a_new\n",
    "            updates[a_old] = a_ista\n",
    "            \n",
    "        self.step_a = theano.function([], [costfunction,\n",
    "                                              recon, coeff, l0, snr, grad_recon_a],\n",
    "                                         updates=updates)\n",
    "            \n",
    "        updates[self.a] = 0.*self.a \n",
    "        updates[a_old] = 0. *a_old\n",
    "        updates[t] = 1.\n",
    "        \n",
    "        self.initialize = theano.function([],[],updates=updates)\n",
    "        \n",
    "        updates = OrderedDict()\n",
    "        updates[self.x] = x_batch\n",
    "        self.update_x = theano.function([x_batch],[],updates=updates)\n",
    "\n",
    "        updates = OrderedDict()\n",
    "        wp = self.w - eps_w*grad_w\n",
    "        wp_norm = T.sqrt(T.sum(self.w**2, axis=1, keepdims=True))\n",
    "        updates[self.w] = wp/wp_norm\n",
    "        \n",
    "        self.step_w = theano.function([],[costfunction],updates=updates)\n",
    "        \n",
    "        self.reconstruct = theano.function([],x_hat)\n",
    "        self.original = theano.function([], self.x)\n"
   ]
  },
  {
   "cell_type": "markdown",
   "metadata": {},
   "source": [
    "# Identity"
   ]
  },
  {
   "cell_type": "code",
   "execution_count": 73,
   "metadata": {
    "collapsed": false
   },
   "outputs": [],
   "source": [
    "my_model = sc(dim=10,n_batch=10,n_neurons=10,eps_a=.1,eps_w=.1,decay_time=5000000,\n",
    "                 lam=.01)\n",
    "patches = np.eye(10, dtype='float32')"
   ]
  },
  {
   "cell_type": "code",
   "execution_count": 74,
   "metadata": {
    "collapsed": false
   },
   "outputs": [],
   "source": [
    "my_model = mca(dim=10,n_batch=10,n_neurons=10,eps_a=.1,eps_w=.1,decay_time=5000000,\n",
    "                 lam=.01)\n",
    "patches = np.eye(10, dtype='float32')"
   ]
  },
  {
   "cell_type": "code",
   "execution_count": 75,
   "metadata": {
    "collapsed": false,
    "scrolled": true
   },
   "outputs": [
    {
     "data": {
      "text/plain": [
       "<matplotlib.colorbar.Colorbar at 0x7fddd18c3790>"
      ]
     },
     "execution_count": 75,
     "metadata": {},
     "output_type": "execute_result"
    },
    {
     "data": {
      "image/png": "[encoded data removed]",
      "text/plain": [
       "<matplotlib.figure.Figure at 0x7fddd21d1550>"
      ]
     },
     "metadata": {},
     "output_type": "display_data"
    }
   ],
   "source": [
    "my_model.setup()\n",
    "plt.imshow(my_model.w.get_value(), cmap='gray', interpolation='nearest')\n",
    "plt.colorbar()"
   ]
  },
  {
   "cell_type": "code",
   "execution_count": 76,
   "metadata": {
    "collapsed": false,
    "scrolled": true
   },
   "outputs": [],
   "source": [
    "d = my_model.train(patches, epochs=5000)"
   ]
  },
  {
   "cell_type": "code",
   "execution_count": 77,
   "metadata": {
    "collapsed": false,
    "scrolled": false
   },
   "outputs": [
    {
     "name": "stdout",
     "output_type": "stream",
     "text": [
      "[ 1.00267541  1.00267541  1.00267541  1.00267541  1.00267541  1.00267541\n",
      "  1.00267541  1.00267541  1.00267541  1.00267541]\n"
     ]
    },
    {
     "data": {
      "text/plain": [
       "<matplotlib.colorbar.Colorbar at 0x7fddd2f2ce50>"
      ]
     },
     "execution_count": 77,
     "metadata": {},
     "output_type": "execute_result"
    },
    {
     "data": {
      "image/png": "[encoded data removed]",
      "text/plain": [
       "<matplotlib.figure.Figure at 0x7fddd1d02850>"
      ]
     },
     "metadata": {},
     "output_type": "display_data"
    },
    {
     "data": {
      "image/png": "[encoded data removed]",
      "text/plain": [
       "<matplotlib.figure.Figure at 0x7fddd1766890>"
      ]
     },
     "metadata": {},
     "output_type": "display_data"
    }
   ],
   "source": [
    "print (d['w']**2).sum(axis=1)\n",
    "plt.imshow(d['w'], cmap='gray', interpolation='nearest')\n",
    "plt.colorbar()\n",
    "plt.figure()\n",
    "plt.imshow(patches, cmap='gray', interpolation='nearest')\n",
    "plt.colorbar()"
   ]
  },
  {
   "cell_type": "markdown",
   "metadata": {
    "collapsed": true
   },
   "source": [
    "# Bars"
   ]
  },
  {
   "cell_type": "code",
   "execution_count": 89,
   "metadata": {
    "collapsed": false
   },
   "outputs": [
    {
     "data": {
      "text/plain": [
       "<matplotlib.colorbar.Colorbar at 0x7fddd1470b90>"
      ]
     },
     "execution_count": 89,
     "metadata": {},
     "output_type": "execute_result"
    },
    {
     "data": {
      "image/png": "[encoded data removed]",
      "text/plain": [
       "<matplotlib.figure.Figure at 0x7fddd2135cd0>"
      ]
     },
     "metadata": {},
     "output_type": "display_data"
    }
   ],
   "source": [
    "n_ims = 200\n",
    "my_model = mca(dim=16,n_batch=n_ims,n_neurons=8,eps_a=.1,eps_w=.1,decay_time=10000000,\n",
    "                 lam=.001)\n",
    "patches, barcolors = gen_bars(n_ims, bw=True)\n",
    "patches = patches.reshape(n_ims,-1).astype('float32')\n",
    "my_model.setup()\n",
    "plt.imshow(my_model.w.get_value(), cmap='gray', interpolation='nearest')\n",
    "plt.colorbar()\n",
    "\n"
   ]
  },
  {
   "cell_type": "code",
   "execution_count": 90,
   "metadata": {
    "collapsed": false
   },
   "outputs": [],
   "source": [
    "d = my_model.train(patches, epochs=500)"
   ]
  },
  {
   "cell_type": "code",
   "execution_count": 91,
   "metadata": {
    "collapsed": false
   },
   "outputs": [
    {
     "data": {
      "text/plain": [
       "<matplotlib.colorbar.Colorbar at 0x7fddd1209050>"
      ]
     },
     "execution_count": 91,
     "metadata": {},
     "output_type": "execute_result"
    },
    {
     "data": {
      "image/png": "[encoded data removed]",
      "text/plain": [
       "<matplotlib.figure.Figure at 0x7fddd143f450>"
      ]
     },
     "metadata": {},
     "output_type": "display_data"
    },
    {
     "data": {
      "image/png": "[encoded data removed]",
      "text/plain": [
       "<matplotlib.figure.Figure at 0x7fddd138b0d0>"
      ]
     },
     "metadata": {},
     "output_type": "display_data"
    }
   ],
   "source": [
    "ims=tri(d['w'], (4,4), (2,4), (2,2), scale_rows_to_unit_interval=False, output_pixel_vals=False)\n",
    "plt.imshow(ims, cmap='gray', interpolation='nearest')\n",
    "plt.colorbar()\n",
    "plt.figure()\n",
    "ims=tri(patches, (4,4), (4,4), (2,2), scale_rows_to_unit_interval=False, output_pixel_vals=False)\n",
    "plt.imshow(ims, cmap='gray', interpolation='nearest')\n",
    "plt.colorbar()"
   ]
  },
  {
   "cell_type": "code",
   "execution_count": 92,
   "metadata": {
    "collapsed": false
   },
   "outputs": [
    {
     "data": {
      "text/plain": [
       "0.71566397"
      ]
     },
     "execution_count": 92,
     "metadata": {},
     "output_type": "execute_result"
    }
   ],
   "source": [
    "d['w'].max()"
   ]
  },
  {
   "cell_type": "code",
   "execution_count": null,
   "metadata": {
    "collapsed": true
   },
   "outputs": [],
   "source": []
  },
  {
   "cell_type": "code",
   "execution_count": null,
   "metadata": {
    "collapsed": true
   },
   "outputs": [],
   "source": []
  }
 ],
 "metadata": {
  "anaconda-cloud": {},
  "kernelspec": {
   "display_name": "Python [Root]",
   "language": "python",
   "name": "Python [Root]"
  },
  "language_info": {
   "codemirror_mode": {
    "name": "ipython",
    "version": 2
   },
   "file_extension": ".py",
   "mimetype": "text/x-python",
   "name": "python",
   "nbconvert_exporter": "python",
   "pygments_lexer": "ipython2",
   "version": "2.7.11"
  }
 },
 "nbformat": 4,
 "nbformat_minor": 0
}
